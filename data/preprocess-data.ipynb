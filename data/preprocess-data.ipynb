{
 "cells": [
  {
   "cell_type": "code",
   "execution_count": 4,
   "metadata": {},
   "outputs": [],
   "source": [
    "import pandas as pd\n",
    "\n",
    "# Load the data from the CSV file\n",
    "df = pd.read_csv('data/bitcoin-price-filtered.csv')\n",
    "\n",
    "# Convert the 'datetime' column to datetime objects and remove timezone info\n",
    "df['datetime'] = pd.to_datetime(df['datetime']).dt.tz_localize(None)\n",
    "\n",
    "# Create a tz-naive start date\n",
    "start_date = pd.Timestamp('2019-01-01')\n",
    "\n",
    "# Filter the DataFrame\n",
    "filtered_df = df[df['datetime'] >= start_date]\n",
    "\n",
    "# Save the filtered data\n",
    "filtered_df.to_csv('bitcoin-price-filtered.csv', index=False)"
   ]
  },
  {
   "cell_type": "code",
   "execution_count": 5,
   "metadata": {},
   "outputs": [],
   "source": [
    "# remove open, high, volume columns\n",
    "filtered_df = filtered_df.drop(columns=['Open', 'High', 'Volume'])\n",
    "\n",
    "# Save the filtered data\n",
    "filtered_df.to_csv('bitcoin-price-filtered.csv', index=False)\n"
   ]
  },
  {
   "cell_type": "code",
   "execution_count": 8,
   "metadata": {},
   "outputs": [
    {
     "name": "stdout",
     "output_type": "stream",
     "text": [
      "         date            datetime     Timestamp      Low    Close\n",
      "0  2019-01-01 2019-01-01 23:59:00  1.546387e+09  3659.35  3659.81\n",
      "1  2019-01-02 2019-01-02 23:59:00  1.546474e+09  3847.18  3850.00\n",
      "2  2019-01-03 2019-01-03 23:59:00  1.546560e+09  3781.71  3782.09\n",
      "3  2019-01-04 2019-01-04 23:59:00  1.546646e+09  3754.40  3757.66\n",
      "4  2019-01-05 2019-01-05 23:59:00  1.546733e+09  3845.58  3845.58\n"
     ]
    }
   ],
   "source": [
    "# Convert datetime to just the date\n",
    "filtered_df['date'] = filtered_df['datetime'].dt.date\n",
    "\n",
    "# Get the last row for each day\n",
    "daily_df = filtered_df.groupby('date').last().reset_index()\n",
    "\n",
    "# Optional: sort by date if needed\n",
    "daily_df = daily_df.sort_values(by='date')\n",
    "\n",
    "# Save to a new CSV\n",
    "daily_df.to_csv(\"data/daily-bitcoin-price.csv\", index=False)\n",
    "\n",
    "print(daily_df.head())"
   ]
  },
  {
   "cell_type": "code",
   "execution_count": 9,
   "metadata": {},
   "outputs": [
    {
     "name": "stdout",
     "output_type": "stream",
     "text": [
      "First few rows of price changes:\n",
      "         date    Close  price_change  pct_change  7d_change  7d_pct_change  \\\n",
      "0  2019-01-01  3659.81           NaN         NaN        NaN            NaN   \n",
      "1  2019-01-02  3850.00        190.19    5.196718        NaN            NaN   \n",
      "2  2019-01-03  3782.09        -67.91   -1.763896        NaN            NaN   \n",
      "3  2019-01-04  3757.66        -24.43   -0.645939        NaN            NaN   \n",
      "4  2019-01-05  3845.58         87.92    2.339754        NaN            NaN   \n",
      "\n",
      "   30d_change  30d_pct_change  \n",
      "0         NaN             NaN  \n",
      "1         NaN             NaN  \n",
      "2         NaN             NaN  \n",
      "3         NaN             NaN  \n",
      "4         NaN             NaN  \n"
     ]
    }
   ],
   "source": [
    "# Write a script to generate a new file (bitcoin-price-change.csv) that calculates the price changes in the bitcoin price.\n",
    "# Calculate daily price changes\n",
    "daily_df['price_change'] = daily_df['Close'].diff()\n",
    "daily_df['pct_change'] = daily_df['Close'].pct_change() * 100\n",
    "\n",
    "# Calculate rolling 7-day and 30-day changes\n",
    "daily_df['7d_change'] = daily_df['Close'].diff(periods=7)\n",
    "daily_df['7d_pct_change'] = daily_df['Close'].pct_change(periods=7) * 100\n",
    "\n",
    "daily_df['30d_change'] = daily_df['Close'].diff(periods=30) \n",
    "daily_df['30d_pct_change'] = daily_df['Close'].pct_change(periods=30) * 100\n",
    "\n",
    "# Save price changes to new CSV\n",
    "daily_df.to_csv(\"data/bitcoin-price-change.csv\", index=False)\n",
    "\n",
    "print(\"First few rows of price changes:\")\n",
    "print(daily_df[['date', 'Close', 'price_change', 'pct_change', '7d_change', '7d_pct_change', '30d_change', '30d_pct_change']].head())\n"
   ]
  },
  {
   "cell_type": "code",
   "execution_count": 24,
   "metadata": {},
   "outputs": [
    {
     "name": "stdout",
     "output_type": "stream",
     "text": [
      "Simplified CSV created with columns: ['date', 'bonk', 'doge', 'shib', 'pepe', 'floki', 'avg_pct_change']\n"
     ]
    },
    {
     "name": "stderr",
     "output_type": "stream",
     "text": [
      "/var/folders/fm/9lqxl2_d1n74fpfks5v25c300000gn/T/ipykernel_66127/1781707447.py:47: FutureWarning: The default fill_method='pad' in DataFrame.pct_change is deprecated and will be removed in a future version. Either fill in any non-leading NA values prior to calling pct_change or specify 'fill_method=None' to not fill NA values.\n",
      "  pct_change_df = merged_df[coin_cols].pct_change() * 100\n"
     ]
    }
   ],
   "source": [
    "import json\n",
    "import pandas as pd\n",
    "\n",
    "def load_coin(filename, coin_name):\n",
    "    # Load JSON data from the file\n",
    "    with open(filename, 'r') as f:\n",
    "        data = json.load(f)\n",
    "    \n",
    "    # Create a DataFrame only for points that have a 'c' key\n",
    "    df = pd.DataFrame([\n",
    "        {\n",
    "            'timestamp': int(ts),\n",
    "            'price': point['c'][0]\n",
    "        }\n",
    "        for ts, point in data['data']['points'].items()\n",
    "        if 'c' in point and isinstance(point['c'], list) and len(point['c']) > 0\n",
    "    ])\n",
    "    \n",
    "    # Convert UNIX timestamp to date (using only the date part)\n",
    "    df['date'] = pd.to_datetime(df['timestamp'], unit='s').dt.date\n",
    "    \n",
    "    # Group by date and get the last record of the day\n",
    "    df_daily = df.groupby('date', as_index=False).last()[['date', 'price']]\n",
    "    \n",
    "    # Rename the 'price' column to the coin's name\n",
    "    df_daily = df_daily.rename(columns={'price': coin_name})\n",
    "    return df_daily\n",
    "\n",
    "# Load each coin's data\n",
    "bonk_df = load_coin('data/meme-coins/bonk.json', 'bonk')\n",
    "doge_df = load_coin('data/meme-coins/doge.json', 'doge')\n",
    "shib_df = load_coin('data/meme-coins/shib.json', 'shib')\n",
    "pepe_df = load_coin('data/meme-coins/pepe.json', 'pepe')\n",
    "floki_df = load_coin('data/meme-coins/floki.json', 'floki')\n",
    "\n",
    "# Merge all coin DataFrames on the date column\n",
    "merged_df = bonk_df.merge(doge_df, on='date', how='outer') \\\n",
    "                   .merge(shib_df, on='date', how='outer') \\\n",
    "                   .merge(pepe_df, on='date', how='outer') \\\n",
    "                   .merge(floki_df, on='date', how='outer')\n",
    "\n",
    "# Sort by date\n",
    "merged_df = merged_df.sort_values('date')\n",
    "\n",
    "# Calculate day-over-day percent change for each coin column\n",
    "coin_cols = [col for col in merged_df.columns if col != 'date']\n",
    "pct_change_df = merged_df[coin_cols].pct_change() * 100\n",
    "\n",
    "# Calculate average percent change for all coins (ignoring NaN values for the first day)\n",
    "merged_df['avg_pct_change'] = pct_change_df.mean(axis=1)\n",
    "\n",
    "# Save the simplified CSV with the average percent change column\n",
    "merged_df.to_csv('data/meme-coins/simplified_prices.csv', index=False)\n",
    "\n",
    "print(\"Simplified CSV created with columns:\", merged_df.columns.tolist())"
   ]
  },
  {
   "cell_type": "code",
   "execution_count": null,
   "metadata": {},
   "outputs": [],
   "source": [
    "# Review anomolies in the data\n",
    "print(merged_df[merged_df['avg_pct_change'].isna()])\n",
    "\n",
    "# Remove rows with NaN values\n",
    "merged_df = merged_df.dropna(subset=['avg_pct_change'])\n",
    "\n"
   ]
  },
  {
   "cell_type": "code",
   "execution_count": 25,
   "metadata": {},
   "outputs": [],
   "source": [
    "# add seven day avg percent change column to simplified_prices.csv\n",
    "merged_df['7d_avg_pct_change'] = merged_df['avg_pct_change'].rolling(window=7).mean()\n",
    "\n",
    "# save the updated dataframe\n",
    "merged_df.to_csv('data/meme-coins/simplified_prices.csv', index=False)\n",
    "\n"
   ]
  },
  {
   "cell_type": "code",
   "execution_count": null,
   "metadata": {},
   "outputs": [],
   "source": []
  }
 ],
 "metadata": {
  "kernelspec": {
   "display_name": "Python 3 (ipykernel)",
   "language": "python",
   "name": "python3"
  },
  "language_info": {
   "codemirror_mode": {
    "name": "ipython",
    "version": 3
   },
   "file_extension": ".py",
   "mimetype": "text/x-python",
   "name": "python",
   "nbconvert_exporter": "python",
   "pygments_lexer": "ipython3",
   "version": "3.12.5"
  }
 },
 "nbformat": 4,
 "nbformat_minor": 2
}
